{
  "nbformat": 4,
  "nbformat_minor": 0,
  "metadata": {
    "colab": {
      "provenance": []
    },
    "kernelspec": {
      "name": "python3",
      "display_name": "Python 3"
    },
    "language_info": {
      "name": "python"
    }
  },
  "cells": [
    {
      "cell_type": "markdown",
      "source": [
        "#Table of Content "
      ],
      "metadata": {
        "id": "uFDSxne7TtS5"
      }
    },
    {
      "cell_type": "code",
      "execution_count": null,
      "metadata": {
        "id": "2LdsatksTstB"
      },
      "outputs": [],
      "source": [
        "import json, csv, os\n",
        "import pandas as pd\n",
        "from re import search"
      ]
    },
    {
      "cell_type": "code",
      "source": [
        "PosFilPath=\"\"\n",
        "while PosFilPath.startswith('y') == False:\n",
        "  workDir = input(\"Input parent directory path: \\n\")\n",
        "  PosFilPath = input(\"Does this look correct? \" + workDir + \"\\n\")\n",
        "\n",
        "  if PosFilPath.lower().startswith('y') == True: \n",
        "\n",
        "    parentDirExit = os.path.exists(workDir)\n",
        "    #print(envVarsExist)\n",
        "\n",
        "    if parentDirExit != False:\n",
        "        print(\"Working directory has been set to \" + workDir + \".\\n\")\n",
        "    else: \n",
        "      print(\"The path \" + workDir + \" is an invalid , try again\\n\")\n",
        "      PosFilPath = \"no\""
      ],
      "metadata": {
        "colab": {
          "base_uri": "https://localhost:8080/"
        },
        "id": "Yq6014VC7hTA",
        "outputId": "72706676-1618-4898-c86a-5b7bf05c09bb"
      },
      "execution_count": null,
      "outputs": [
        {
          "output_type": "stream",
          "name": "stdout",
          "text": [
            "Input parent directory path: \n",
            "/content\n",
            "Does this look correct? /content\n",
            "yes\n",
            "Working directory has been set to /content.\n",
            "\n"
          ]
        }
      ]
    },
    {
      "cell_type": "code",
      "source": [
        "cats = [\"images\", \"annotations\", \"categories\"] #catagories of intrest\n",
        "\n",
        "os.makedirs(workDir + '/CSVfiles', exist_ok=True)  \n",
        "\n",
        "for name in cats:\n",
        "  with open(workDir + \"/channel_islands_camera_traps.json\", \"r\") as f: #insert path to channel_islands_camera_traps.json file\n",
        "    data = json.load(f)\n",
        "    names = data[name]\n",
        "\n",
        "  with open(workDir + \"/CSVfiles/channel_islands_camera_traps_\" + name + \".csv\", \"w\") as p: \n",
        "    fieldnames = names[0].keys()\n",
        "    writer = csv.DictWriter(p,fieldnames=fieldnames)\n",
        "    writer.writeheader()\n",
        "    for i in names:\n",
        "      writer.writerow(i)"
      ],
      "metadata": {
        "id": "3YsNn5cQUPvE"
      },
      "execution_count": null,
      "outputs": []
    },
    {
      "cell_type": "code",
      "source": [
        "annotations = pd.read_csv(workDir + \"/CSVfiles/channel_islands_camera_traps_annotations.csv\")\n",
        "images = pd.read_csv(workDir + \"/CSVfiles/channel_islands_camera_traps_images.csv\")\n",
        "catagories = pd.read_csv(workDir + '/CSVfiles/channel_islands_camera_traps_categories.csv')"
      ],
      "metadata": {
        "id": "GYRKR7diEPq6"
      },
      "execution_count": null,
      "outputs": []
    },
    {
      "cell_type": "code",
      "source": [
        "images.columns"
      ],
      "metadata": {
        "colab": {
          "base_uri": "https://localhost:8080/"
        },
        "id": "r4QLbFK2EemM",
        "outputId": "5b3d20ba-0c84-4e93-abf0-9fc6f25b8357"
      },
      "execution_count": null,
      "outputs": [
        {
          "output_type": "execute_result",
          "data": {
            "text/plain": [
              "Index(['id', 'file_name', 'seq_id', 'seq_num_frames', 'frame_num',\n",
              "       'original_relative_path', 'location', 'temperature', 'width', 'height'],\n",
              "      dtype='object')"
            ]
          },
          "metadata": {},
          "execution_count": 16
        }
      ]
    },
    {
      "cell_type": "code",
      "source": [
        "images.shape"
      ],
      "metadata": {
        "colab": {
          "base_uri": "https://localhost:8080/"
        },
        "id": "hXY-lpRTFz1t",
        "outputId": "8b6e6777-be6e-46c2-b015-c9fb3beffcd8"
      },
      "execution_count": null,
      "outputs": [
        {
          "output_type": "execute_result",
          "data": {
            "text/plain": [
              "(245529, 10)"
            ]
          },
          "metadata": {},
          "execution_count": 17
        }
      ]
    },
    {
      "cell_type": "code",
      "source": [
        "annotations.columns"
      ],
      "metadata": {
        "colab": {
          "base_uri": "https://localhost:8080/"
        },
        "id": "36U4b7liEh8k",
        "outputId": "f0395ad6-9821-4d70-92fa-464b0ceef6f2"
      },
      "execution_count": null,
      "outputs": [
        {
          "output_type": "execute_result",
          "data": {
            "text/plain": [
              "Index(['id', 'image_id', 'category_id', 'sequence_level_annotation', 'bbox'], dtype='object')"
            ]
          },
          "metadata": {},
          "execution_count": 18
        }
      ]
    },
    {
      "cell_type": "code",
      "source": [
        "annotations.shape"
      ],
      "metadata": {
        "colab": {
          "base_uri": "https://localhost:8080/"
        },
        "id": "d2BBXDs7F1pk",
        "outputId": "fed49e2b-3cd2-4ca9-93d4-0e61753cdad6"
      },
      "execution_count": null,
      "outputs": [
        {
          "output_type": "execute_result",
          "data": {
            "text/plain": [
              "(264321, 5)"
            ]
          },
          "metadata": {},
          "execution_count": 19
        }
      ]
    },
    {
      "cell_type": "code",
      "source": [
        "annotations.rename(columns={\"id\":\"annotation_id\",\n",
        "                            \"image_id\":\"id\"}, inplace = True)\n",
        "parentTable = pd.merge(images, annotations,\n",
        "         how='inner', on='id')"
      ],
      "metadata": {
        "id": "bqkc2EMaEnR4"
      },
      "execution_count": null,
      "outputs": []
    },
    {
      "cell_type": "markdown",
      "source": [
        "sanity check "
      ],
      "metadata": {
        "id": "aNoYsbnZFnZb"
      }
    },
    {
      "cell_type": "code",
      "source": [
        "parentTable.columns"
      ],
      "metadata": {
        "colab": {
          "base_uri": "https://localhost:8080/"
        },
        "id": "5XUZ2ZUGFHp0",
        "outputId": "5b9b1331-2f17-449d-eefd-0197bf8c5266"
      },
      "execution_count": null,
      "outputs": [
        {
          "output_type": "execute_result",
          "data": {
            "text/plain": [
              "Index(['id', 'file_name', 'seq_id', 'seq_num_frames', 'frame_num',\n",
              "       'original_relative_path', 'location', 'temperature', 'width', 'height',\n",
              "       'annotation_id', 'category_id', 'sequence_level_annotation', 'bbox'],\n",
              "      dtype='object')"
            ]
          },
          "metadata": {},
          "execution_count": 21
        }
      ]
    },
    {
      "cell_type": "code",
      "source": [
        "parentTable.columns"
      ],
      "metadata": {
        "colab": {
          "base_uri": "https://localhost:8080/"
        },
        "id": "XyPH57cjFofp",
        "outputId": "a561cbfa-8cf4-4d13-ad1c-5111d0282010"
      },
      "execution_count": null,
      "outputs": [
        {
          "output_type": "execute_result",
          "data": {
            "text/plain": [
              "Index(['id', 'file_name', 'seq_id', 'seq_num_frames', 'frame_num',\n",
              "       'original_relative_path', 'location', 'temperature', 'width', 'height',\n",
              "       'annotation_id', 'category_id', 'sequence_level_annotation', 'bbox'],\n",
              "      dtype='object')"
            ]
          },
          "metadata": {},
          "execution_count": 22
        }
      ]
    },
    {
      "cell_type": "code",
      "source": [
        "parentTable.head()"
      ],
      "metadata": {
        "colab": {
          "base_uri": "https://localhost:8080/",
          "height": 523
        },
        "id": "VMWcsM5v__GC",
        "outputId": "f81beeec-075d-4ef3-d060-926e4caacdef"
      },
      "execution_count": null,
      "outputs": [
        {
          "output_type": "execute_result",
          "data": {
            "text/plain": [
              "                                     id                       file_name  \\\n",
              "0  dd8b68e9-360b-429e-a43b-892c2e036455  loc-h500ee07133376/000/000.jpg   \n",
              "1  46619c4d-2d36-4cca-9cd6-933c669a44ab  loc-h500ee07133376/000/001.jpg   \n",
              "2  62782485-48ed-4da7-b795-7af43393aaf1  loc-h500ee07133376/000/002.jpg   \n",
              "3  c4465075-477d-45b2-be07-fad35b2fec2c  loc-h500ee07133376/000/003.jpg   \n",
              "4  7e2b120a-78ef-4c06-bdae-4f4070acf05e  loc-h500ee07133376/000/004.jpg   \n",
              "\n",
              "                                 seq_id  seq_num_frames  frame_num  \\\n",
              "0  836f6487-50fd-42f5-8dcc-336fc538b7a8               6          0   \n",
              "1  836f6487-50fd-42f5-8dcc-336fc538b7a8               6          1   \n",
              "2  836f6487-50fd-42f5-8dcc-336fc538b7a8               6          2   \n",
              "3  836f6487-50fd-42f5-8dcc-336fc538b7a8               6          3   \n",
              "4  836f6487-50fd-42f5-8dcc-336fc538b7a8               6          4   \n",
              "\n",
              "                              original_relative_path        location  \\\n",
              "0  2011_09_Set/Station%201/2011/2011-09-13/IMG_00...  h500ee07133376   \n",
              "1  2011_09_Set/Station%201/2011/2011-09-13/IMG_00...  h500ee07133376   \n",
              "2  2011_09_Set/Station%201/2011/2011-09-13/IMG_00...  h500ee07133376   \n",
              "3  2011_09_Set/Station%201/2011/2011-09-13/IMG_00...  h500ee07133376   \n",
              "4  2011_09_Set/Station%201/2011/2011-09-13/IMG_00...  h500ee07133376   \n",
              "\n",
              "  temperature  width  height                         annotation_id  \\\n",
              "0        21 c   1920    1080  16e360cc-4a53-11eb-b9b3-000d3a74c7de   \n",
              "1        21 c   1920    1080  16e360cd-4a53-11eb-97ff-000d3a74c7de   \n",
              "2        21 c   1920    1080  16e360ce-4a53-11eb-832e-000d3a74c7de   \n",
              "3        21 c   1920    1080  16e360cf-4a53-11eb-9447-000d3a74c7de   \n",
              "4        21 c   1920    1080  16e360d0-4a53-11eb-90ec-000d3a74c7de   \n",
              "\n",
              "   category_id  sequence_level_annotation                 bbox  \n",
              "0            0                      False   [0, 0, 1919, 1079]  \n",
              "1            0                      False   [0, 0, 1919, 1079]  \n",
              "2            0                      False   [0, 0, 1919, 1079]  \n",
              "3            1                      False  [0, 657, 1919, 391]  \n",
              "4            0                      False   [0, 0, 1919, 1079]  "
            ],
            "text/html": [
              "\n",
              "  <div id=\"df-0cdace1b-c10c-49f1-80d9-d7447568051b\">\n",
              "    <div class=\"colab-df-container\">\n",
              "      <div>\n",
              "<style scoped>\n",
              "    .dataframe tbody tr th:only-of-type {\n",
              "        vertical-align: middle;\n",
              "    }\n",
              "\n",
              "    .dataframe tbody tr th {\n",
              "        vertical-align: top;\n",
              "    }\n",
              "\n",
              "    .dataframe thead th {\n",
              "        text-align: right;\n",
              "    }\n",
              "</style>\n",
              "<table border=\"1\" class=\"dataframe\">\n",
              "  <thead>\n",
              "    <tr style=\"text-align: right;\">\n",
              "      <th></th>\n",
              "      <th>id</th>\n",
              "      <th>file_name</th>\n",
              "      <th>seq_id</th>\n",
              "      <th>seq_num_frames</th>\n",
              "      <th>frame_num</th>\n",
              "      <th>original_relative_path</th>\n",
              "      <th>location</th>\n",
              "      <th>temperature</th>\n",
              "      <th>width</th>\n",
              "      <th>height</th>\n",
              "      <th>annotation_id</th>\n",
              "      <th>category_id</th>\n",
              "      <th>sequence_level_annotation</th>\n",
              "      <th>bbox</th>\n",
              "    </tr>\n",
              "  </thead>\n",
              "  <tbody>\n",
              "    <tr>\n",
              "      <th>0</th>\n",
              "      <td>dd8b68e9-360b-429e-a43b-892c2e036455</td>\n",
              "      <td>loc-h500ee07133376/000/000.jpg</td>\n",
              "      <td>836f6487-50fd-42f5-8dcc-336fc538b7a8</td>\n",
              "      <td>6</td>\n",
              "      <td>0</td>\n",
              "      <td>2011_09_Set/Station%201/2011/2011-09-13/IMG_00...</td>\n",
              "      <td>h500ee07133376</td>\n",
              "      <td>21 c</td>\n",
              "      <td>1920</td>\n",
              "      <td>1080</td>\n",
              "      <td>16e360cc-4a53-11eb-b9b3-000d3a74c7de</td>\n",
              "      <td>0</td>\n",
              "      <td>False</td>\n",
              "      <td>[0, 0, 1919, 1079]</td>\n",
              "    </tr>\n",
              "    <tr>\n",
              "      <th>1</th>\n",
              "      <td>46619c4d-2d36-4cca-9cd6-933c669a44ab</td>\n",
              "      <td>loc-h500ee07133376/000/001.jpg</td>\n",
              "      <td>836f6487-50fd-42f5-8dcc-336fc538b7a8</td>\n",
              "      <td>6</td>\n",
              "      <td>1</td>\n",
              "      <td>2011_09_Set/Station%201/2011/2011-09-13/IMG_00...</td>\n",
              "      <td>h500ee07133376</td>\n",
              "      <td>21 c</td>\n",
              "      <td>1920</td>\n",
              "      <td>1080</td>\n",
              "      <td>16e360cd-4a53-11eb-97ff-000d3a74c7de</td>\n",
              "      <td>0</td>\n",
              "      <td>False</td>\n",
              "      <td>[0, 0, 1919, 1079]</td>\n",
              "    </tr>\n",
              "    <tr>\n",
              "      <th>2</th>\n",
              "      <td>62782485-48ed-4da7-b795-7af43393aaf1</td>\n",
              "      <td>loc-h500ee07133376/000/002.jpg</td>\n",
              "      <td>836f6487-50fd-42f5-8dcc-336fc538b7a8</td>\n",
              "      <td>6</td>\n",
              "      <td>2</td>\n",
              "      <td>2011_09_Set/Station%201/2011/2011-09-13/IMG_00...</td>\n",
              "      <td>h500ee07133376</td>\n",
              "      <td>21 c</td>\n",
              "      <td>1920</td>\n",
              "      <td>1080</td>\n",
              "      <td>16e360ce-4a53-11eb-832e-000d3a74c7de</td>\n",
              "      <td>0</td>\n",
              "      <td>False</td>\n",
              "      <td>[0, 0, 1919, 1079]</td>\n",
              "    </tr>\n",
              "    <tr>\n",
              "      <th>3</th>\n",
              "      <td>c4465075-477d-45b2-be07-fad35b2fec2c</td>\n",
              "      <td>loc-h500ee07133376/000/003.jpg</td>\n",
              "      <td>836f6487-50fd-42f5-8dcc-336fc538b7a8</td>\n",
              "      <td>6</td>\n",
              "      <td>3</td>\n",
              "      <td>2011_09_Set/Station%201/2011/2011-09-13/IMG_00...</td>\n",
              "      <td>h500ee07133376</td>\n",
              "      <td>21 c</td>\n",
              "      <td>1920</td>\n",
              "      <td>1080</td>\n",
              "      <td>16e360cf-4a53-11eb-9447-000d3a74c7de</td>\n",
              "      <td>1</td>\n",
              "      <td>False</td>\n",
              "      <td>[0, 657, 1919, 391]</td>\n",
              "    </tr>\n",
              "    <tr>\n",
              "      <th>4</th>\n",
              "      <td>7e2b120a-78ef-4c06-bdae-4f4070acf05e</td>\n",
              "      <td>loc-h500ee07133376/000/004.jpg</td>\n",
              "      <td>836f6487-50fd-42f5-8dcc-336fc538b7a8</td>\n",
              "      <td>6</td>\n",
              "      <td>4</td>\n",
              "      <td>2011_09_Set/Station%201/2011/2011-09-13/IMG_00...</td>\n",
              "      <td>h500ee07133376</td>\n",
              "      <td>21 c</td>\n",
              "      <td>1920</td>\n",
              "      <td>1080</td>\n",
              "      <td>16e360d0-4a53-11eb-90ec-000d3a74c7de</td>\n",
              "      <td>0</td>\n",
              "      <td>False</td>\n",
              "      <td>[0, 0, 1919, 1079]</td>\n",
              "    </tr>\n",
              "  </tbody>\n",
              "</table>\n",
              "</div>\n",
              "      <button class=\"colab-df-convert\" onclick=\"convertToInteractive('df-0cdace1b-c10c-49f1-80d9-d7447568051b')\"\n",
              "              title=\"Convert this dataframe to an interactive table.\"\n",
              "              style=\"display:none;\">\n",
              "        \n",
              "  <svg xmlns=\"http://www.w3.org/2000/svg\" height=\"24px\"viewBox=\"0 0 24 24\"\n",
              "       width=\"24px\">\n",
              "    <path d=\"M0 0h24v24H0V0z\" fill=\"none\"/>\n",
              "    <path d=\"M18.56 5.44l.94 2.06.94-2.06 2.06-.94-2.06-.94-.94-2.06-.94 2.06-2.06.94zm-11 1L8.5 8.5l.94-2.06 2.06-.94-2.06-.94L8.5 2.5l-.94 2.06-2.06.94zm10 10l.94 2.06.94-2.06 2.06-.94-2.06-.94-.94-2.06-.94 2.06-2.06.94z\"/><path d=\"M17.41 7.96l-1.37-1.37c-.4-.4-.92-.59-1.43-.59-.52 0-1.04.2-1.43.59L10.3 9.45l-7.72 7.72c-.78.78-.78 2.05 0 2.83L4 21.41c.39.39.9.59 1.41.59.51 0 1.02-.2 1.41-.59l7.78-7.78 2.81-2.81c.8-.78.8-2.07 0-2.86zM5.41 20L4 18.59l7.72-7.72 1.47 1.35L5.41 20z\"/>\n",
              "  </svg>\n",
              "      </button>\n",
              "      \n",
              "  <style>\n",
              "    .colab-df-container {\n",
              "      display:flex;\n",
              "      flex-wrap:wrap;\n",
              "      gap: 12px;\n",
              "    }\n",
              "\n",
              "    .colab-df-convert {\n",
              "      background-color: #E8F0FE;\n",
              "      border: none;\n",
              "      border-radius: 50%;\n",
              "      cursor: pointer;\n",
              "      display: none;\n",
              "      fill: #1967D2;\n",
              "      height: 32px;\n",
              "      padding: 0 0 0 0;\n",
              "      width: 32px;\n",
              "    }\n",
              "\n",
              "    .colab-df-convert:hover {\n",
              "      background-color: #E2EBFA;\n",
              "      box-shadow: 0px 1px 2px rgba(60, 64, 67, 0.3), 0px 1px 3px 1px rgba(60, 64, 67, 0.15);\n",
              "      fill: #174EA6;\n",
              "    }\n",
              "\n",
              "    [theme=dark] .colab-df-convert {\n",
              "      background-color: #3B4455;\n",
              "      fill: #D2E3FC;\n",
              "    }\n",
              "\n",
              "    [theme=dark] .colab-df-convert:hover {\n",
              "      background-color: #434B5C;\n",
              "      box-shadow: 0px 1px 3px 1px rgba(0, 0, 0, 0.15);\n",
              "      filter: drop-shadow(0px 1px 2px rgba(0, 0, 0, 0.3));\n",
              "      fill: #FFFFFF;\n",
              "    }\n",
              "  </style>\n",
              "\n",
              "      <script>\n",
              "        const buttonEl =\n",
              "          document.querySelector('#df-0cdace1b-c10c-49f1-80d9-d7447568051b button.colab-df-convert');\n",
              "        buttonEl.style.display =\n",
              "          google.colab.kernel.accessAllowed ? 'block' : 'none';\n",
              "\n",
              "        async function convertToInteractive(key) {\n",
              "          const element = document.querySelector('#df-0cdace1b-c10c-49f1-80d9-d7447568051b');\n",
              "          const dataTable =\n",
              "            await google.colab.kernel.invokeFunction('convertToInteractive',\n",
              "                                                     [key], {});\n",
              "          if (!dataTable) return;\n",
              "\n",
              "          const docLinkHtml = 'Like what you see? Visit the ' +\n",
              "            '<a target=\"_blank\" href=https://colab.research.google.com/notebooks/data_table.ipynb>data table notebook</a>'\n",
              "            + ' to learn more about interactive tables.';\n",
              "          element.innerHTML = '';\n",
              "          dataTable['output_type'] = 'display_data';\n",
              "          await google.colab.output.renderOutput(dataTable, element);\n",
              "          const docLink = document.createElement('div');\n",
              "          docLink.innerHTML = docLinkHtml;\n",
              "          element.appendChild(docLink);\n",
              "        }\n",
              "      </script>\n",
              "    </div>\n",
              "  </div>\n",
              "  "
            ]
          },
          "metadata": {},
          "execution_count": 27
        }
      ]
    },
    {
      "cell_type": "code",
      "source": [
        "os.makedirs(workDir + '/fileByCat', exist_ok=True)  "
      ],
      "metadata": {
        "id": "vySZhagcM_ZE"
      },
      "execution_count": null,
      "outputs": []
    },
    {
      "cell_type": "code",
      "source": [
        "empty = parentTable.loc[parentTable['category_id'] == 0].file_name\n",
        "emptyID = parentTable.loc[parentTable['category_id'] == 0].id\n",
        "\n",
        "emptyID.to_csv(workDir + \"/fileByCat/emptyID.txt\", header=False, index = False)\n",
        "empty.to_csv(workDir + \"/fileByCat/emptyPath.txt\", header=False, index = False)\n",
        "\n",
        "\n",
        "human = parentTable.loc[parentTable['category_id'] == 1].file_name\n",
        "humanID = parentTable.loc[parentTable['category_id'] == 1].id\n",
        "\n",
        "human.to_csv(workDir + \"/fileByCat/humanPath.txt\", header=False, index = False)\n",
        "humanID.to_csv(workDir + \"/fileByCat/humanID.txt\", header=False, index = False)\n",
        "\n",
        "fox = parentTable.loc[parentTable['category_id'] == 2].file_name\n",
        "foxID = parentTable.loc[parentTable['category_id'] == 2].id\n",
        "\n",
        "fox.to_csv(workDir + \"/fileByCat/foxPath.txt\", header=False, index = False)\n",
        "foxID.to_csv(workDir + \"/fileByCat/foxID.txt\", header=False, index = False)\n",
        "\n",
        "\n",
        "skunk = parentTable.loc[parentTable['category_id'] == 3].file_name\n",
        "skunkID = parentTable.loc[parentTable['category_id'] == 3].id\n",
        "\n",
        "skunk.to_csv(workDir + \"/fileByCat/skunkPath.txt\", header=False, index = False)\n",
        "skunkID.to_csv(workDir + \"/fileByCat/skunkID.txt\", header=False, index = False)\n",
        "\n",
        "\n",
        "rodent = parentTable.loc[parentTable['category_id'] == 4].file_name\n",
        "rodentID = parentTable.loc[parentTable['category_id'] == 4].id\n",
        "\n",
        "rodent.to_csv(workDir + \"/fileByCat/rodentPath.txt\", header=False, index = False)\n",
        "rodentID.to_csv(workDir + \"/fileByCat/rodentID.txt\", header=False, index = False)\n",
        "\n",
        "\n",
        "bird = parentTable.loc[parentTable['category_id'] == 5].file_name\n",
        "birdID = parentTable.loc[parentTable['category_id'] == 5].id\n",
        "\n",
        "bird.to_csv(workDir + \"/fileByCat/birdPath.txt\", header=False, index = False)\n",
        "birdID.to_csv(workDir + \"/fileByCat/birdID.txt\", header=False, index = False)\n",
        "\n",
        "other = parentTable.loc[parentTable['category_id'] == 6].file_name\n",
        "otherID = parentTable.loc[parentTable['category_id'] == 6].id\n",
        "\n",
        "other.to_csv(workDir + \"/fileByCat/otherPath.txt\", header=False, index = False)\n",
        "otherID.to_csv(workDir + \"/fileByCat/otherID.txt\", header=False, index = False)"
      ],
      "metadata": {
        "id": "DBSzvt-_GnUG"
      },
      "execution_count": null,
      "outputs": []
    },
    {
      "cell_type": "code",
      "source": [
        "!zip -r $workDir/fileByCat.zip $workDir/fileByCat \n",
        "\n",
        "#Manually download fileByCat.zip from within /content section"
      ],
      "metadata": {
        "colab": {
          "base_uri": "https://localhost:8080/"
        },
        "id": "CIrtijRPQ75B",
        "outputId": "8a7b79dc-4068-4bcd-d4c3-581eaf847cdb"
      },
      "execution_count": null,
      "outputs": [
        {
          "output_type": "stream",
          "name": "stdout",
          "text": [
            "updating: content/fileByCat/ (stored 0%)\n",
            "updating: content/fileByCat/otherPath.txt (deflated 86%)\n",
            "updating: content/fileByCat/birdPath.txt (deflated 92%)\n",
            "updating: content/fileByCat/emptyPath.txt (deflated 91%)\n",
            "updating: content/fileByCat/humanPath.txt (deflated 91%)\n",
            "updating: content/fileByCat/foxPath.txt (deflated 91%)\n",
            "updating: content/fileByCat/skunkPath.txt (deflated 89%)\n",
            "updating: content/fileByCat/rodentPath.txt (deflated 92%)\n",
            "  adding: content/fileByCat/emptyID.txt (deflated 43%)\n",
            "  adding: content/fileByCat/humanID.txt (deflated 50%)\n",
            "  adding: content/fileByCat/otherID.txt (deflated 42%)\n",
            "  adding: content/fileByCat/birdID.txt (deflated 56%)\n",
            "  adding: content/fileByCat/foxID.txt (deflated 46%)\n",
            "  adding: content/fileByCat/skunkID.txt (deflated 42%)\n",
            "  adding: content/fileByCat/rodentID.txt (deflated 50%)\n"
          ]
        }
      ]
    },
    {
      "cell_type": "code",
      "source": [
        "!zip -r {workDir}/CSVfiles.zip {workDir}/CSVfiles\n",
        "print(\"\\nFiles have been saves to \" + workDir + \" as a ziped folder called CSVfiles.zip\")\n",
        "\n",
        "#Manually download CSVfiles.zip from within /content section"
      ],
      "metadata": {
        "colab": {
          "base_uri": "https://localhost:8080/"
        },
        "id": "EhThITPHQy6J",
        "outputId": "b7ab5012-dd54-43c7-bce8-60a6a5bd53fa"
      },
      "execution_count": null,
      "outputs": [
        {
          "output_type": "stream",
          "name": "stdout",
          "text": [
            "updating: content/CSVfiles/ (stored 0%)\n",
            "updating: content/CSVfiles/channel_islands_camera_traps_annotations.csv (deflated 68%)\n",
            "updating: content/CSVfiles/channel_islands_camera_traps_images.csv (deflated 79%)\n",
            "updating: content/CSVfiles/channel_islands_camera_traps_categories.csv (deflated 6%)\n",
            "\n",
            "Files have been saves to /content as a ziped folder called CSVfiles.zip\n"
          ]
        }
      ]
    }
  ]
}