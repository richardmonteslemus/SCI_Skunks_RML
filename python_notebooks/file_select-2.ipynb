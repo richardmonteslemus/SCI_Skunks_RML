{
  "nbformat": 4,
  "nbformat_minor": 0,
  "metadata": {
    "colab": {
      "provenance": []
    },
    "kernelspec": {
      "name": "python3",
      "display_name": "Python 3"
    },
    "language_info": {
      "name": "python"
    }
  },
  "cells": [
    {
      "cell_type": "markdown",
      "source": [
        "#Table of Content "
      ],
      "metadata": {
        "id": "uFDSxne7TtS5"
      }
    },
    {
      "cell_type": "code",
      "execution_count": 95,
      "metadata": {
        "id": "2LdsatksTstB"
      },
      "outputs": [],
      "source": [
        "import json, csv, os\n",
        "import pandas as pd"
      ]
    },
    {
      "cell_type": "code",
      "source": [
        "cats = [\"images\", \"annotations\", \"categories\"] #catagories of intrest\n",
        "\n",
        "os.makedirs('/content/CSVfiles', exist_ok=True)  \n",
        "\n",
        "for name in cats:\n",
        "  with open(\"/content/channel_islands_camera_traps.json\", \"r\") as f: #insert path to channel_islands_camera_traps.json file\n",
        "    data = json.load(f)\n",
        "    names = data[name]\n",
        "\n",
        "  with open(\"/content/CSVfiles/channel_islands_camera_traps_\" + name + \".csv\", \"w\") as p: \n",
        "    fieldnames = names[0].keys()\n",
        "    writer = csv.DictWriter(p,fieldnames=fieldnames)\n",
        "    writer.writeheader()\n",
        "    for i in names:\n",
        "      writer.writerow(i)"
      ],
      "metadata": {
        "id": "3YsNn5cQUPvE"
      },
      "execution_count": 102,
      "outputs": []
    },
    {
      "cell_type": "code",
      "source": [
        "annotations = pd.read_csv(\"/content/CSVfiles/channel_islands_camera_traps_annotations.csv\")\n",
        "images = pd.read_csv(\"/content/CSVfiles/channel_islands_camera_traps_images.csv\")\n",
        "catagories = pd.read_csv('/content/CSVfiles/channel_islands_camera_traps_categories.csv')"
      ],
      "metadata": {
        "id": "GYRKR7diEPq6"
      },
      "execution_count": 103,
      "outputs": []
    },
    {
      "cell_type": "code",
      "source": [
        "images.columns"
      ],
      "metadata": {
        "colab": {
          "base_uri": "https://localhost:8080/"
        },
        "id": "r4QLbFK2EemM",
        "outputId": "f49070ef-d26a-477b-c6ae-37d2c3ee0dfd"
      },
      "execution_count": 37,
      "outputs": [
        {
          "output_type": "execute_result",
          "data": {
            "text/plain": [
              "Index(['id', 'file_name', 'seq_id', 'seq_num_frames', 'frame_num',\n",
              "       'original_relative_path', 'location', 'temperature', 'width', 'height'],\n",
              "      dtype='object')"
            ]
          },
          "metadata": {},
          "execution_count": 37
        }
      ]
    },
    {
      "cell_type": "code",
      "source": [
        "images.shape"
      ],
      "metadata": {
        "colab": {
          "base_uri": "https://localhost:8080/"
        },
        "id": "hXY-lpRTFz1t",
        "outputId": "ca722a8b-5d2f-409a-91e6-4d100530135a"
      },
      "execution_count": 49,
      "outputs": [
        {
          "output_type": "execute_result",
          "data": {
            "text/plain": [
              "(245529, 10)"
            ]
          },
          "metadata": {},
          "execution_count": 49
        }
      ]
    },
    {
      "cell_type": "code",
      "source": [
        "annotations.columns"
      ],
      "metadata": {
        "colab": {
          "base_uri": "https://localhost:8080/"
        },
        "id": "36U4b7liEh8k",
        "outputId": "81739945-a3b1-47bb-9cbe-33624d29d177"
      },
      "execution_count": 38,
      "outputs": [
        {
          "output_type": "execute_result",
          "data": {
            "text/plain": [
              "Index(['id', 'image_id', 'category_id', 'sequence_level_annotation', 'bbox'], dtype='object')"
            ]
          },
          "metadata": {},
          "execution_count": 38
        }
      ]
    },
    {
      "cell_type": "code",
      "source": [
        "annotations.shape"
      ],
      "metadata": {
        "colab": {
          "base_uri": "https://localhost:8080/"
        },
        "id": "d2BBXDs7F1pk",
        "outputId": "d0b901bb-4cce-45c5-d08e-0c00896aee23"
      },
      "execution_count": 50,
      "outputs": [
        {
          "output_type": "execute_result",
          "data": {
            "text/plain": [
              "(264321, 5)"
            ]
          },
          "metadata": {},
          "execution_count": 50
        }
      ]
    },
    {
      "cell_type": "code",
      "source": [
        "annotations.rename(columns={\"id\":\"annotation_id\",\n",
        "                            \"image_id\":\"id\"}, inplace = True)\n",
        "parentTable = pd.merge(images, annotations,\n",
        "         how='inner', on='id')"
      ],
      "metadata": {
        "id": "bqkc2EMaEnR4"
      },
      "execution_count": 41,
      "outputs": []
    },
    {
      "cell_type": "markdown",
      "source": [
        "sanity check "
      ],
      "metadata": {
        "id": "aNoYsbnZFnZb"
      }
    },
    {
      "cell_type": "code",
      "source": [
        "parentTable.columns"
      ],
      "metadata": {
        "colab": {
          "base_uri": "https://localhost:8080/"
        },
        "id": "5XUZ2ZUGFHp0",
        "outputId": "6eaac46d-feef-49b8-ad01-57be7cd7c336"
      },
      "execution_count": 44,
      "outputs": [
        {
          "output_type": "execute_result",
          "data": {
            "text/plain": [
              "Index(['id', 'file_name', 'seq_id', 'seq_num_frames', 'frame_num',\n",
              "       'original_relative_path', 'location', 'temperature', 'width', 'height',\n",
              "       'annotation_id', 'category_id', 'sequence_level_annotation', 'bbox'],\n",
              "      dtype='object')"
            ]
          },
          "metadata": {},
          "execution_count": 44
        }
      ]
    },
    {
      "cell_type": "code",
      "source": [
        "parentTable.columns"
      ],
      "metadata": {
        "colab": {
          "base_uri": "https://localhost:8080/"
        },
        "id": "XyPH57cjFofp",
        "outputId": "066172c8-53ba-4e8f-ceb0-3cb94dc4ede3"
      },
      "execution_count": 77,
      "outputs": [
        {
          "output_type": "execute_result",
          "data": {
            "text/plain": [
              "Index(['id', 'file_name', 'seq_id', 'seq_num_frames', 'frame_num',\n",
              "       'original_relative_path', 'location', 'temperature', 'width', 'height',\n",
              "       'annotation_id', 'category_id', 'sequence_level_annotation', 'bbox'],\n",
              "      dtype='object')"
            ]
          },
          "metadata": {},
          "execution_count": 77
        }
      ]
    },
    {
      "cell_type": "code",
      "source": [
        "os.makedirs('/content/fileByCat', exist_ok=True)  "
      ],
      "metadata": {
        "id": "vySZhagcM_ZE"
      },
      "execution_count": 96,
      "outputs": []
    },
    {
      "cell_type": "code",
      "source": [
        "empty = parentTable.loc[parentTable['category_id'] == 0].file_name\n",
        "empty.to_csv(\"/content/fileByCat/emptyPath.csv\")\n",
        "\n",
        "\n",
        "human = parentTable.loc[parentTable['category_id'] == 1].file_name\n",
        "human.to_csv(\"/content/fileByCat/humanPath.csv\")\n",
        "\n",
        "fox = parentTable.loc[parentTable['category_id'] == 2].file_name\n",
        "fox.to_csv(\"/content/fileByCat/foxPath.csv\")\n",
        "\n",
        "\n",
        "skunk = parentTable.loc[parentTable['category_id'] == 3].file_name\n",
        "skunk.to_csv(\"/content/fileByCat/skunkPath.csv\")\n",
        "\n",
        "\n",
        "rodent = parentTable.loc[parentTable['category_id'] == 4].file_name\n",
        "rodent.to_csv(\"/content/fileByCat/rodentPath.csv\")\n",
        "\n",
        "\n",
        "bird = parentTable.loc[parentTable['category_id'] == 5].file_name\n",
        "bird.to_csv(\"/content/fileByCat/birdPath.csv\")\n",
        "\n",
        "other = parentTable.loc[parentTable['category_id'] == 6].file_name\n",
        "other.to_csv(\"/content/fileByCat/otherPath.csv\")"
      ],
      "metadata": {
        "id": "DBSzvt-_GnUG"
      },
      "execution_count": 104,
      "outputs": []
    },
    {
      "cell_type": "code",
      "source": [
        "!zip -r /content/fileByCat.zip /content/fileByCat\n",
        "\n",
        "#Manually download fileByCat.zip from within /content section"
      ],
      "metadata": {
        "colab": {
          "base_uri": "https://localhost:8080/"
        },
        "id": "CIrtijRPQ75B",
        "outputId": "b97f1a8b-1b8c-480d-edd9-5fc118dfcf1c"
      },
      "execution_count": 107,
      "outputs": [
        {
          "output_type": "stream",
          "name": "stdout",
          "text": [
            "updating: content/fileByCat/ (stored 0%)\n",
            "updating: content/fileByCat/skunkPath.csv (deflated 84%)\n",
            "updating: content/fileByCat/humanPath.csv (deflated 86%)\n",
            "updating: content/fileByCat/otherPath.csv (deflated 81%)\n",
            "updating: content/fileByCat/birdPath.csv (deflated 86%)\n",
            "updating: content/fileByCat/emptyPath.csv (deflated 86%)\n",
            "updating: content/fileByCat/rodentPath.csv (deflated 86%)\n",
            "updating: content/fileByCat/foxPath.csv (deflated 86%)\n"
          ]
        }
      ]
    },
    {
      "cell_type": "code",
      "source": [
        "!zip -r /content/CSVfiles.zip /content/CSVfiles\n",
        "\n",
        "#Manually download CSVfiles.zip from within /content section"
      ],
      "metadata": {
        "colab": {
          "base_uri": "https://localhost:8080/"
        },
        "id": "EhThITPHQy6J",
        "outputId": "c3e4fe89-a4d0-4e56-9db4-9c3f0304cc9b"
      },
      "execution_count": 108,
      "outputs": [
        {
          "output_type": "stream",
          "name": "stdout",
          "text": [
            "updating: content/CSVfiles/ (stored 0%)\n",
            "updating: content/CSVfiles/channel_islands_camera_traps_annotations.csv (deflated 68%)\n",
            "updating: content/CSVfiles/channel_islands_camera_traps_images.csv (deflated 79%)\n",
            "updating: content/CSVfiles/channel_islands_camera_traps_categories.csv (deflated 6%)\n"
          ]
        }
      ]
    }
  ]
}