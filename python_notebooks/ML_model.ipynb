{
  "cells": [
    {
      "cell_type": "markdown",
      "metadata": {
        "id": "76l_dKipuhgy"
      },
      "source": [
        "# Upgrading pip\n",
        "\n",
        "Although this is not nessasry it speeds up the process and imports newer libraries which are more up to date.\n",
        "\n",
        "```\n",
        "# !pip install --upgrade pip\n",
        "```\n",
        "\n"
      ]
    },
    {
      "cell_type": "code",
      "execution_count": null,
      "metadata": {
        "id": "G54_Hf6j28ab"
      },
      "outputs": [],
      "source": [
        "import pandas as pd"
      ]
    },
    {
      "cell_type": "code",
      "execution_count": null,
      "metadata": {
        "id": "UwOqn57q23n4"
      },
      "outputs": [],
      "source": [
        "skipped = pd.read_csv(\"/content/empty_list.csv\")"
      ]
    },
    {
      "cell_type": "code",
      "execution_count": null,
      "metadata": {
        "colab": {
          "base_uri": "https://localhost:8080/"
        },
        "id": "u5BhtaBz2_iH",
        "outputId": "9847aee8-49dc-47ce-d8e1-8fd55a341a51"
      },
      "outputs": [
        {
          "data": {
            "text/plain": [
              "114949"
            ]
          },
          "execution_count": 19,
          "metadata": {},
          "output_type": "execute_result"
        }
      ],
      "source": [
        "len(skipped)"
      ]
    },
    {
      "cell_type": "code",
      "execution_count": null,
      "metadata": {
        "id": "pG0mCxlQm20k"
      },
      "outputs": [],
      "source": [
        "!pip install --upgrade pip"
      ]
    },
    {
      "cell_type": "markdown",
      "metadata": {
        "id": "zTvPyq6mvtGi"
      },
      "source": [
        "# Installing Tensor Flow Lite\n"
      ]
    },
    {
      "cell_type": "code",
      "execution_count": null,
      "metadata": {
        "id": "K-nLMXYEkCdR"
      },
      "outputs": [],
      "source": [
        "!pip install tflite_model_maker"
      ]
    },
    {
      "cell_type": "markdown",
      "metadata": {
        "id": "54IUECSmv1tn"
      },
      "source": [
        "# Importing required libraries"
      ]
    },
    {
      "cell_type": "code",
      "execution_count": null,
      "metadata": {
        "id": "vO_7PnLDn9vb"
      },
      "outputs": [],
      "source": [
        "import tensorflow as tf\n",
        "assert tf.__version__.startswith('2')\n",
        "import os\n",
        "import shutil\n",
        "\n",
        "from tflite_model_maker import model_spec\n",
        "from tflite_model_maker import image_classifier\n",
        "from tflite_model_maker.config import ExportFormat\n",
        "from tflite_model_maker.config import QuantizationConfig\n",
        "from tflite_model_maker.image_classifier import DataLoader\n",
        "\n",
        "import matplotlib.pyplot as plt"
      ]
    },
    {
      "cell_type": "markdown",
      "metadata": {
        "id": "r9T26fr3v7r9"
      },
      "source": [
        "# Importing Google Drive files"
      ]
    },
    {
      "cell_type": "code",
      "execution_count": null,
      "metadata": {
        "colab": {
          "base_uri": "https://localhost:8080/"
        },
        "id": "u7WaNdx3oSEf",
        "outputId": "fde9561c-ef08-4a37-9039-dac1c5e21ecb"
      },
      "outputs": [
        {
          "name": "stdout",
          "output_type": "stream",
          "text": [
            "Mounted at /content/gdrive\n"
          ]
        }
      ],
      "source": [
        "from google.colab import drive\n",
        "drive.mount('/content/gdrive', force_remount=True)\n",
        "\n",
        "#!unzip \"/content/gdrive/MyDrive/skunk_image_training_data/training.zip\""
      ]
    },
    {
      "cell_type": "markdown",
      "metadata": {
        "id": "h6EVFjLuwShu"
      },
      "source": [
        "# Setting image path\n"
      ]
    },
    {
      "cell_type": "code",
      "execution_count": null,
      "metadata": {
        "colab": {
          "base_uri": "https://localhost:8080/"
        },
        "id": "mF62RDJ5oMC9",
        "outputId": "9da502a0-71dd-474c-9352-f5b3e00c26e6"
      },
      "outputs": [
        {
          "name": "stdout",
          "output_type": "stream",
          "text": [
            "/content/gdrive/MyDrive/skunk_image_training_data/training_images_select\n"
          ]
        }
      ],
      "source": [
        "image_path = '/content/gdrive/MyDrive/skunk_image_training_data/training_images_select'\n",
        "\n",
        "print(image_path)"
      ]
    },
    {
      "cell_type": "markdown",
      "metadata": {
        "id": "Pu7ywuoOHOtY"
      },
      "source": [
        "# File cleaning and preparation\n"
      ]
    },
    {
      "cell_type": "code",
      "execution_count": null,
      "metadata": {
        "id": "FbHySjhSyU5T"
      },
      "outputs": [],
      "source": [
        "trainging_path = image_path"
      ]
    },
    {
      "cell_type": "code",
      "execution_count": null,
      "metadata": {
        "id": "Ib1iMSzut3zS"
      },
      "outputs": [],
      "source": [
        "!find \"/content/gdrive/MyDrive/skunk_image_training_data/training_images_select/\" -type f -name '*.jpg' -print0 | xargs -0 rename 's/.jpg$/.jpeg/'"
      ]
    },
    {
      "cell_type": "code",
      "execution_count": null,
      "metadata": {
        "colab": {
          "base_uri": "https://localhost:8080/"
        },
        "id": "R7rvuFEl0ZM_",
        "outputId": "4b79f006-58ce-4de5-9277-76caaf17d62c"
      },
      "outputs": [
        {
          "name": "stdout",
          "output_type": "stream",
          "text": [
            "Reading package lists... Done\n",
            "Building dependency tree       \n",
            "Reading state information... Done\n",
            "The following package was automatically installed and is no longer required:\n",
            "  libnvidia-common-460\n",
            "Use 'sudo apt autoremove' to remove it.\n",
            "The following NEW packages will be installed:\n",
            "  jpeginfo\n",
            "0 upgraded, 1 newly installed, 0 to remove and 22 not upgraded.\n",
            "Need to get 12.5 kB of archives.\n",
            "After this operation, 34.8 kB of additional disk space will be used.\n",
            "Get:1 http://archive.ubuntu.com/ubuntu bionic/universe amd64 jpeginfo amd64 1.6.0-6build1 [12.5 kB]\n",
            "Fetched 12.5 kB in 0s (147 kB/s)\n",
            "debconf: unable to initialize frontend: Dialog\n",
            "debconf: (No usable dialog-like program is installed, so the dialog based frontend cannot be used. at /usr/share/perl5/Debconf/FrontEnd/Dialog.pm line 76, <> line 1.)\n",
            "debconf: falling back to frontend: Readline\n",
            "debconf: unable to initialize frontend: Readline\n",
            "debconf: (This frontend requires a controlling tty.)\n",
            "debconf: falling back to frontend: Teletype\n",
            "dpkg-preconfigure: unable to re-open stdin: \n",
            "Selecting previously unselected package jpeginfo.\n",
            "(Reading database ... 123941 files and directories currently installed.)\n",
            "Preparing to unpack .../jpeginfo_1.6.0-6build1_amd64.deb ...\n",
            "Unpacking jpeginfo (1.6.0-6build1) ...\n",
            "Setting up jpeginfo (1.6.0-6build1) ...\n",
            "Processing triggers for man-db (2.8.3-2ubuntu0.1) ...\n"
          ]
        }
      ],
      "source": [
        "!sudo apt install jpeginfo"
      ]
    },
    {
      "cell_type": "code",
      "execution_count": null,
      "metadata": {
        "colab": {
          "base_uri": "https://localhost:8080/"
        },
        "id": "btUUmL4PqIVU",
        "outputId": "787f9463-81d0-44ba-bd2f-e31ae9b56a9c"
      },
      "outputs": [
        {
          "name": "stdout",
          "output_type": "stream",
          "text": [
            "jpeg\n",
            "jpeg\n"
          ]
        }
      ],
      "source": [
        "!find /content/gdrive/MyDrive/skunk_image_training_data/training_images_select -type f | perl -ne 'print $1 if m/\\.([^.\\/]+)$/' | sort -u\n",
        "\n",
        "!find /content/gdrive/MyDrive/skunk_image_training_data/training_images_select -name '*DS_Store' -type f -delete\n",
        "\n",
        "!find /content/gdrive/MyDrive/skunk_image_training_data/training_images_select -type f | perl -ne 'print $1 if m/\\.([^.\\/]+)$/' | sort -u"
      ]
    },
    {
      "cell_type": "code",
      "execution_count": null,
      "metadata": {
        "colab": {
          "base_uri": "https://localhost:8080/"
        },
        "id": "sh5Eoc7-ybNM",
        "outputId": "9241ea41-413b-47df-cb05-a263475d4d01"
      },
      "outputs": [
        {
          "name": "stdout",
          "output_type": "stream",
          "text": [
            "/content/gdrive/MyDrive/skunk_image_training_data/training_images_select/Empty/loc-h500ee07133450-004-479.jpeg\n"
          ]
        }
      ],
      "source": [
        "\n",
        "!find /content/gdrive/MyDrive/skunk_image_training_data/training_images_select -type f \\\n",
        "\\( -iname \"*.jpg\" \\\n",
        " -o -iname \"*.jpeg\" \\) \\\n",
        "-exec jpeginfo -c {} \\; | \\\n",
        "grep -E \"WARNING|ERROR\" | \\\n",
        "cut -d \" \" -f 1"
      ]
    },
    {
      "cell_type": "code",
      "execution_count": null,
      "metadata": {
        "id": "ODBS8XdwAweR"
      },
      "outputs": [],
      "source": [
        "os.remove(\"/content/gdrive/MyDrive/skunk_image_training_data/training_images_select/Empty/loc-h500ee07133450-004-479.jpeg\")"
      ]
    },
    {
      "cell_type": "markdown",
      "metadata": {
        "id": "LbTKEpIuwoSH"
      },
      "source": [
        "# Creating train and rest data from images in image_path Directory"
      ]
    },
    {
      "cell_type": "code",
      "execution_count": null,
      "metadata": {
        "id": "RN9V4nvhr47r"
      },
      "outputs": [],
      "source": [
        "data = DataLoader.from_folder(image_path, \n",
        "                              shuffle = True)\n",
        "train_data, rest_data = data.split(0.8)\n"
      ]
    },
    {
      "cell_type": "markdown",
      "metadata": {
        "id": "YnGc-I-1xHed"
      },
      "source": [
        "# Creating validation and test data from rest_data"
      ]
    },
    {
      "cell_type": "code",
      "execution_count": null,
      "metadata": {
        "id": "6T_O6Q8ir_yO"
      },
      "outputs": [],
      "source": [
        "validation_data, test_data = rest_data.split(0.5)"
      ]
    },
    {
      "cell_type": "markdown",
      "metadata": {
        "id": "3-657dwFxtZl"
      },
      "source": [
        "# Tensor Flow Lite Model\n"
      ]
    },
    {
      "cell_type": "markdown",
      "metadata": {
        "id": "skeE1YC_xyDh"
      },
      "source": [
        "## Leaving variables outside for easy reading and updating"
      ]
    },
    {
      "cell_type": "code",
      "execution_count": null,
      "metadata": {
        "id": "9vweHI16sbV3"
      },
      "outputs": [],
      "source": [
        "num_epochs = 85\n",
        "learning_rate = 0.0001\n",
        "batch_size = 4\n",
        "shuffle = True\n",
        "augmentation = False"
      ]
    },
    {
      "cell_type": "markdown",
      "metadata": {
        "id": "n8h30gV2x_lD"
      },
      "source": [
        "## Training "
      ]
    },
    {
      "cell_type": "code",
      "execution_count": null,
      "metadata": {
        "colab": {
          "base_uri": "https://localhost:8080/",
          "height": 1000
        },
        "id": "K2C1UzV8cEAA",
        "outputId": "b1d9833b-162b-444c-d3ce-604edfd38c9b"
      },
      "outputs": [
        {
          "name": "stdout",
          "output_type": "stream",
          "text": [
            "Model: \"sequential\"\n",
            "_________________________________________________________________\n",
            " Layer (type)                Output Shape              Param #   \n",
            "=================================================================\n",
            " hub_keras_layer_v1v2 (HubKe  (None, 1280)             3413024   \n",
            " rasLayerV1V2)                                                   \n",
            "                                                                 \n",
            " dropout (Dropout)           (None, 1280)              0         \n",
            "                                                                 \n",
            " dense (Dense)               (None, 4)                 5124      \n",
            "                                                                 \n",
            "=================================================================\n",
            "Total params: 3,418,148\n",
            "Trainable params: 5,124\n",
            "Non-trainable params: 3,413,024\n",
            "_________________________________________________________________\n",
            "None\n",
            "Epoch 1/500\n"
          ]
        },
        {
          "name": "stderr",
          "output_type": "stream",
          "text": [
            "/usr/local/lib/python3.7/dist-packages/keras/optimizers/optimizer_v2/gradient_descent.py:108: UserWarning: The `lr` argument is deprecated, use `learning_rate` instead.\n",
            "  super(SGD, self).__init__(name, **kwargs)\n"
          ]
        },
        {
          "ename": "UnimplementedError",
          "evalue": "ignored",
          "output_type": "error",
          "traceback": [
            "\u001b[0;31m---------------------------------------------------------------------------\u001b[0m",
            "\u001b[0;31mUnimplementedError\u001b[0m                        Traceback (most recent call last)",
            "\u001b[0;32m<ipython-input-35-9a1b27a13f19>\u001b[0m in \u001b[0;36m<module>\u001b[0;34m\u001b[0m\n\u001b[1;32m     13\u001b[0m                                 \u001b[0mbatch_size\u001b[0m \u001b[0;34m=\u001b[0m \u001b[0mbatch_size\u001b[0m\u001b[0;34m,\u001b[0m\u001b[0;34m\u001b[0m\u001b[0;34m\u001b[0m\u001b[0m\n\u001b[1;32m     14\u001b[0m                                 \u001b[0mshuffle\u001b[0m\u001b[0;34m=\u001b[0m \u001b[0mshuffle\u001b[0m\u001b[0;34m,\u001b[0m\u001b[0;34m\u001b[0m\u001b[0;34m\u001b[0m\u001b[0m\n\u001b[0;32m---> 15\u001b[0;31m                                 use_augmentation= augmentation)\n\u001b[0m",
            "\u001b[0;32m/usr/local/lib/python3.7/dist-packages/tensorflow_examples/lite/model_maker/core/task/image_classifier.py\u001b[0m in \u001b[0;36mcreate\u001b[0;34m(cls, train_data, model_spec, validation_data, batch_size, epochs, steps_per_epoch, train_whole_model, dropout_rate, learning_rate, momentum, shuffle, use_augmentation, use_hub_library, warmup_steps, model_dir, do_train)\u001b[0m\n\u001b[1;32m    337\u001b[0m     \u001b[0;32mif\u001b[0m \u001b[0mdo_train\u001b[0m\u001b[0;34m:\u001b[0m\u001b[0;34m\u001b[0m\u001b[0;34m\u001b[0m\u001b[0m\n\u001b[1;32m    338\u001b[0m       \u001b[0mtf\u001b[0m\u001b[0;34m.\u001b[0m\u001b[0mcompat\u001b[0m\u001b[0;34m.\u001b[0m\u001b[0mv1\u001b[0m\u001b[0;34m.\u001b[0m\u001b[0mlogging\u001b[0m\u001b[0;34m.\u001b[0m\u001b[0minfo\u001b[0m\u001b[0;34m(\u001b[0m\u001b[0;34m'Retraining the models...'\u001b[0m\u001b[0;34m)\u001b[0m\u001b[0;34m\u001b[0m\u001b[0;34m\u001b[0m\u001b[0m\n\u001b[0;32m--> 339\u001b[0;31m       \u001b[0mimage_classifier\u001b[0m\u001b[0;34m.\u001b[0m\u001b[0mtrain\u001b[0m\u001b[0;34m(\u001b[0m\u001b[0mtrain_data\u001b[0m\u001b[0;34m,\u001b[0m \u001b[0mvalidation_data\u001b[0m\u001b[0;34m,\u001b[0m \u001b[0msteps_per_epoch\u001b[0m\u001b[0;34m)\u001b[0m\u001b[0;34m\u001b[0m\u001b[0;34m\u001b[0m\u001b[0m\n\u001b[0m\u001b[1;32m    340\u001b[0m     \u001b[0;32melse\u001b[0m\u001b[0;34m:\u001b[0m\u001b[0;34m\u001b[0m\u001b[0;34m\u001b[0m\u001b[0m\n\u001b[1;32m    341\u001b[0m       \u001b[0;31m# Used in evaluation.\u001b[0m\u001b[0;34m\u001b[0m\u001b[0;34m\u001b[0m\u001b[0;34m\u001b[0m\u001b[0m\n",
            "\u001b[0;32m/usr/local/lib/python3.7/dist-packages/tensorflow_examples/lite/model_maker/core/task/image_classifier.py\u001b[0m in \u001b[0;36mtrain\u001b[0;34m(self, train_data, validation_data, hparams, steps_per_epoch)\u001b[0m\n\u001b[1;32m    194\u001b[0m         \u001b[0mtrain_ds\u001b[0m\u001b[0;34m=\u001b[0m\u001b[0mtrain_ds\u001b[0m\u001b[0;34m,\u001b[0m\u001b[0;34m\u001b[0m\u001b[0;34m\u001b[0m\u001b[0m\n\u001b[1;32m    195\u001b[0m         \u001b[0mvalidation_ds\u001b[0m\u001b[0;34m=\u001b[0m\u001b[0mvalidation_ds\u001b[0m\u001b[0;34m,\u001b[0m\u001b[0;34m\u001b[0m\u001b[0;34m\u001b[0m\u001b[0m\n\u001b[0;32m--> 196\u001b[0;31m         steps_per_epoch=steps_per_epoch)\n\u001b[0m\u001b[1;32m    197\u001b[0m \u001b[0;34m\u001b[0m\u001b[0m\n\u001b[1;32m    198\u001b[0m   def _export_tflite(self,\n",
            "\u001b[0;32m/usr/local/lib/python3.7/dist-packages/tensorflow_examples/lite/model_maker/core/task/train_image_classifier_lib.py\u001b[0m in \u001b[0;36mhub_train_model\u001b[0;34m(model, hparams, train_ds, validation_ds, steps_per_epoch)\u001b[0m\n\u001b[1;32m    142\u001b[0m       \u001b[0mepochs\u001b[0m\u001b[0;34m=\u001b[0m\u001b[0mhparams\u001b[0m\u001b[0;34m.\u001b[0m\u001b[0mtrain_epochs\u001b[0m\u001b[0;34m,\u001b[0m\u001b[0;34m\u001b[0m\u001b[0;34m\u001b[0m\u001b[0m\n\u001b[1;32m    143\u001b[0m       \u001b[0msteps_per_epoch\u001b[0m\u001b[0;34m=\u001b[0m\u001b[0msteps_per_epoch\u001b[0m\u001b[0;34m,\u001b[0m\u001b[0;34m\u001b[0m\u001b[0;34m\u001b[0m\u001b[0m\n\u001b[0;32m--> 144\u001b[0;31m       validation_data=validation_ds)\n\u001b[0m\u001b[1;32m    145\u001b[0m \u001b[0;34m\u001b[0m\u001b[0m\n\u001b[1;32m    146\u001b[0m \u001b[0;34m\u001b[0m\u001b[0m\n",
            "\u001b[0;32m/usr/local/lib/python3.7/dist-packages/keras/utils/traceback_utils.py\u001b[0m in \u001b[0;36merror_handler\u001b[0;34m(*args, **kwargs)\u001b[0m\n\u001b[1;32m     65\u001b[0m     \u001b[0;32mexcept\u001b[0m \u001b[0mException\u001b[0m \u001b[0;32mas\u001b[0m \u001b[0me\u001b[0m\u001b[0;34m:\u001b[0m  \u001b[0;31m# pylint: disable=broad-except\u001b[0m\u001b[0;34m\u001b[0m\u001b[0;34m\u001b[0m\u001b[0m\n\u001b[1;32m     66\u001b[0m       \u001b[0mfiltered_tb\u001b[0m \u001b[0;34m=\u001b[0m \u001b[0m_process_traceback_frames\u001b[0m\u001b[0;34m(\u001b[0m\u001b[0me\u001b[0m\u001b[0;34m.\u001b[0m\u001b[0m__traceback__\u001b[0m\u001b[0;34m)\u001b[0m\u001b[0;34m\u001b[0m\u001b[0;34m\u001b[0m\u001b[0m\n\u001b[0;32m---> 67\u001b[0;31m       \u001b[0;32mraise\u001b[0m \u001b[0me\u001b[0m\u001b[0;34m.\u001b[0m\u001b[0mwith_traceback\u001b[0m\u001b[0;34m(\u001b[0m\u001b[0mfiltered_tb\u001b[0m\u001b[0;34m)\u001b[0m \u001b[0;32mfrom\u001b[0m \u001b[0;32mNone\u001b[0m\u001b[0;34m\u001b[0m\u001b[0;34m\u001b[0m\u001b[0m\n\u001b[0m\u001b[1;32m     68\u001b[0m     \u001b[0;32mfinally\u001b[0m\u001b[0;34m:\u001b[0m\u001b[0;34m\u001b[0m\u001b[0;34m\u001b[0m\u001b[0m\n\u001b[1;32m     69\u001b[0m       \u001b[0;32mdel\u001b[0m \u001b[0mfiltered_tb\u001b[0m\u001b[0;34m\u001b[0m\u001b[0;34m\u001b[0m\u001b[0m\n",
            "\u001b[0;32m/usr/local/lib/python3.7/dist-packages/tensorflow/python/eager/execute.py\u001b[0m in \u001b[0;36mquick_execute\u001b[0;34m(op_name, num_outputs, inputs, attrs, ctx, name)\u001b[0m\n\u001b[1;32m     53\u001b[0m     \u001b[0mctx\u001b[0m\u001b[0;34m.\u001b[0m\u001b[0mensure_initialized\u001b[0m\u001b[0;34m(\u001b[0m\u001b[0;34m)\u001b[0m\u001b[0;34m\u001b[0m\u001b[0;34m\u001b[0m\u001b[0m\n\u001b[1;32m     54\u001b[0m     tensors = pywrap_tfe.TFE_Py_Execute(ctx._handle, device_name, op_name,\n\u001b[0;32m---> 55\u001b[0;31m                                         inputs, attrs, num_outputs)\n\u001b[0m\u001b[1;32m     56\u001b[0m   \u001b[0;32mexcept\u001b[0m \u001b[0mcore\u001b[0m\u001b[0;34m.\u001b[0m\u001b[0m_NotOkStatusException\u001b[0m \u001b[0;32mas\u001b[0m \u001b[0me\u001b[0m\u001b[0;34m:\u001b[0m\u001b[0;34m\u001b[0m\u001b[0;34m\u001b[0m\u001b[0m\n\u001b[1;32m     57\u001b[0m     \u001b[0;32mif\u001b[0m \u001b[0mname\u001b[0m \u001b[0;32mis\u001b[0m \u001b[0;32mnot\u001b[0m \u001b[0;32mNone\u001b[0m\u001b[0;34m:\u001b[0m\u001b[0;34m\u001b[0m\u001b[0;34m\u001b[0m\u001b[0m\n",
            "\u001b[0;31mUnimplementedError\u001b[0m: Graph execution error:\n\nDetected at node 'efficientnet-lite0/model/stem/conv2d/Conv2D' defined at (most recent call last):\n    File \"/usr/lib/python3.7/runpy.py\", line 193, in _run_module_as_main\n      \"__main__\", mod_spec)\n    File \"/usr/lib/python3.7/runpy.py\", line 85, in _run_code\n      exec(code, run_globals)\n    File \"/usr/local/lib/python3.7/dist-packages/ipykernel_launcher.py\", line 16, in <module>\n      app.launch_new_instance()\n    File \"/usr/local/lib/python3.7/dist-packages/traitlets/config/application.py\", line 846, in launch_instance\n      app.start()\n    File \"/usr/local/lib/python3.7/dist-packages/ipykernel/kernelapp.py\", line 612, in start\n      self.io_loop.start()\n    File \"/usr/local/lib/python3.7/dist-packages/tornado/platform/asyncio.py\", line 132, in start\n      self.asyncio_loop.run_forever()\n    File \"/usr/lib/python3.7/asyncio/base_events.py\", line 541, in run_forever\n      self._run_once()\n    File \"/usr/lib/python3.7/asyncio/base_events.py\", line 1786, in _run_once\n      handle._run()\n    File \"/usr/lib/python3.7/asyncio/events.py\", line 88, in _run\n      self._context.run(self._callback, *self._args)\n    File \"/usr/local/lib/python3.7/dist-packages/tornado/ioloop.py\", line 758, in _run_callback\n      ret = callback()\n    File \"/usr/local/lib/python3.7/dist-packages/tornado/stack_context.py\", line 300, in null_wrapper\n      return fn(*args, **kwargs)\n    File \"/usr/local/lib/python3.7/dist-packages/tornado/gen.py\", line 1233, in inner\n      self.run()\n    File \"/usr/local/lib/python3.7/dist-packages/tornado/gen.py\", line 1147, in run\n      yielded = self.gen.send(value)\n    File \"/usr/local/lib/python3.7/dist-packages/ipykernel/kernelbase.py\", line 365, in process_one\n      yield gen.maybe_future(dispatch(*args))\n    File \"/usr/local/lib/python3.7/dist-packages/tornado/gen.py\", line 326, in wrapper\n      yielded = next(result)\n    File \"/usr/local/lib/python3.7/dist-packages/ipykernel/kernelbase.py\", line 268, in dispatch_shell\n      yield gen.maybe_future(handler(stream, idents, msg))\n    File \"/usr/local/lib/python3.7/dist-packages/tornado/gen.py\", line 326, in wrapper\n      yielded = next(result)\n    File \"/usr/local/lib/python3.7/dist-packages/ipykernel/kernelbase.py\", line 545, in execute_request\n      user_expressions, allow_stdin,\n    File \"/usr/local/lib/python3.7/dist-packages/tornado/gen.py\", line 326, in wrapper\n      yielded = next(result)\n    File \"/usr/local/lib/python3.7/dist-packages/ipykernel/ipkernel.py\", line 306, in do_execute\n      res = shell.run_cell(code, store_history=store_history, silent=silent)\n    File \"/usr/local/lib/python3.7/dist-packages/ipykernel/zmqshell.py\", line 536, in run_cell\n      return super(ZMQInteractiveShell, self).run_cell(*args, **kwargs)\n    File \"/usr/local/lib/python3.7/dist-packages/IPython/core/interactiveshell.py\", line 2855, in run_cell\n      raw_cell, store_history, silent, shell_futures)\n    File \"/usr/local/lib/python3.7/dist-packages/IPython/core/interactiveshell.py\", line 2881, in _run_cell\n      return runner(coro)\n    File \"/usr/local/lib/python3.7/dist-packages/IPython/core/async_helpers.py\", line 68, in _pseudo_sync_runner\n      coro.send(None)\n    File \"/usr/local/lib/python3.7/dist-packages/IPython/core/interactiveshell.py\", line 3058, in run_cell_async\n      interactivity=interactivity, compiler=compiler, result=result)\n    File \"/usr/local/lib/python3.7/dist-packages/IPython/core/interactiveshell.py\", line 3249, in run_ast_nodes\n      if (await self.run_code(code, result,  async_=asy)):\n    File \"/usr/local/lib/python3.7/dist-packages/IPython/core/interactiveshell.py\", line 3326, in run_code\n      exec(code_obj, self.user_global_ns, self.user_ns)\n    File \"<ipython-input-35-9a1b27a13f19>\", line 15, in <module>\n      use_augmentation= augmentation)\n    File \"/usr/local/lib/python3.7/dist-packages/tensorflow_examples/lite/model_maker/core/task/image_classifier.py\", line 339, in create\n      image_classifier.train(train_data, validation_data, steps_per_epoch)\n    File \"/usr/local/lib/python3.7/dist-packages/tensorflow_examples/lite/model_maker/core/task/image_classifier.py\", line 160, in train\n      self.create_model()\n    File \"/usr/local/lib/python3.7/dist-packages/tensorflow_examples/lite/model_maker/core/task/image_classifier.py\", line 130, in create_model\n      self.model_spec.uri, trainable=hparams.do_fine_tuning)\n    File \"/usr/local/lib/python3.7/dist-packages/tensorflow_hub/keras_layer.py\", line 153, in __init__\n      self._func = load_module(handle, tags, self._load_options)\n    File \"/usr/local/lib/python3.7/dist-packages/tensorflow_hub/keras_layer.py\", line 449, in load_module\n      return module_v2.load(handle, tags=tags, options=set_load_options)\n    File \"/usr/local/lib/python3.7/dist-packages/tensorflow_hub/module_v2.py\", line 106, in load\n      obj = tf.compat.v1.saved_model.load_v2(module_path, tags=tags)\nNode: 'efficientnet-lite0/model/stem/conv2d/Conv2D'\nDNN library is not found.\n\t [[{{node efficientnet-lite0/model/stem/conv2d/Conv2D}}]] [Op:__inference_train_function_11113]"
          ]
        }
      ],
      "source": [
        "# efficientnet_lite0'=\n",
        "num_epochs = 500\n",
        "learning_rate = 0.0001\n",
        "batch_size = 4\n",
        "shuffle = True\n",
        "augmentation = False\n",
        "\n",
        "model = image_classifier.create(train_data,\n",
        "                                validation_data=validation_data,\n",
        "                                model_spec=model_spec.get('efficientnet_lite0'), \n",
        "                                epochs =num_epochs, \n",
        "                                learning_rate= learning_rate,\n",
        "                                batch_size = batch_size, \n",
        "                                shuffle= shuffle, \n",
        "                                use_augmentation= augmentation)"
      ]
    },
    {
      "cell_type": "code",
      "execution_count": null,
      "metadata": {
        "id": "-vL-_z25i-x1"
      },
      "outputs": [],
      "source": [
        "snum_epochs = 500\n",
        "learning_rate = 0.0001 #0.0001\n",
        "batch_size = 4\n",
        "shuffle = False #False\n",
        "augmentation = False\n",
        "\n",
        "model = image_classifier.create(train_data,\n",
        "                                validation_data=validation_data,\n",
        "                                model_spec=model_spec.get('efficientnet_lite2'), \n",
        "                                epochs = num_epochs, \n",
        "                                learning_rate = learning_rate,\n",
        "                                batch_size = batch_size, \n",
        "                                shuffle = shuffle, \n",
        "                                use_augmentation= augmentation)\n",
        "\n",
        "\n",
        "#77ms/step - loss: 0.3032 - accuracy: 1.0000 - val_loss: 0.3932 - val_accuracy: 0.9545"
      ]
    },
    {
      "cell_type": "code",
      "execution_count": null,
      "metadata": {
        "colab": {
          "background_save": true,
          "base_uri": "https://localhost:8080/"
        },
        "id": "c6zhIwnseAu1",
        "outputId": "3f8eb3ef-5fc3-487b-eb57-7e96157e4473"
      },
      "outputs": [
        {
          "name": "stdout",
          "output_type": "stream",
          "text": [
            "Model: \"sequential\"\n",
            "_________________________________________________________________\n",
            " Layer (type)                Output Shape              Param #   \n",
            "=================================================================\n",
            " hub_keras_layer_v1v2 (HubKe  (None, 1280)             6992768   \n",
            " rasLayerV1V2)                                                   \n",
            "                                                                 \n",
            " dropout (Dropout)           (None, 1280)              0         \n",
            "                                                                 \n",
            " dense (Dense)               (None, 4)                 5124      \n",
            "                                                                 \n",
            "=================================================================\n",
            "Total params: 6,997,892\n",
            "Trainable params: 5,124\n",
            "Non-trainable params: 6,992,768\n",
            "_________________________________________________________________\n",
            "None\n",
            "Epoch 1/85\n",
            "1551/1551 [==============================] - 117s 68ms/step - loss: 0.8327 - accuracy: 0.7645 - val_loss: 0.6362 - val_accuracy: 0.8737\n",
            "Epoch 2/85\n",
            "1551/1551 [==============================] - 106s 68ms/step - loss: 0.6455 - accuracy: 0.8680 - val_loss: 0.5879 - val_accuracy: 0.8982\n",
            "Epoch 3/85\n",
            "1551/1551 [==============================] - 104s 67ms/step - loss: 0.6044 - accuracy: 0.8828 - val_loss: 0.5693 - val_accuracy: 0.9072\n",
            "Epoch 4/85\n",
            "1551/1551 [==============================] - 104s 67ms/step - loss: 0.5887 - accuracy: 0.8915 - val_loss: 0.5588 - val_accuracy: 0.9098\n",
            "Epoch 5/85\n",
            "1551/1551 [==============================] - 103s 66ms/step - loss: 0.5754 - accuracy: 0.8981 - val_loss: 0.5513 - val_accuracy: 0.9162\n",
            "Epoch 6/85\n",
            "1551/1551 [==============================] - 105s 68ms/step - loss: 0.5688 - accuracy: 0.9007 - val_loss: 0.5450 - val_accuracy: 0.9188\n",
            "Epoch 7/85\n",
            "1551/1551 [==============================] - 104s 67ms/step - loss: 0.5562 - accuracy: 0.9065 - val_loss: 0.5409 - val_accuracy: 0.9201\n",
            "Epoch 8/85\n",
            "1551/1551 [==============================] - 103s 66ms/step - loss: 0.5526 - accuracy: 0.9091 - val_loss: 0.5372 - val_accuracy: 0.9240\n",
            "Epoch 9/85\n",
            "1551/1551 [==============================] - 104s 67ms/step - loss: 0.5460 - accuracy: 0.9110 - val_loss: 0.5340 - val_accuracy: 0.9253\n",
            "Epoch 10/85\n",
            "1551/1551 [==============================] - 103s 66ms/step - loss: 0.5439 - accuracy: 0.9139 - val_loss: 0.5300 - val_accuracy: 0.9291\n",
            "Epoch 11/85\n",
            "1551/1551 [==============================] - 104s 67ms/step - loss: 0.5416 - accuracy: 0.9180 - val_loss: 0.5287 - val_accuracy: 0.9265\n",
            "Epoch 12/85\n",
            "1551/1551 [==============================] - 103s 66ms/step - loss: 0.5361 - accuracy: 0.9168 - val_loss: 0.5272 - val_accuracy: 0.9330\n",
            "Epoch 13/85\n",
            "1551/1551 [==============================] - 104s 67ms/step - loss: 0.5320 - accuracy: 0.9199 - val_loss: 0.5250 - val_accuracy: 0.9317\n",
            "Epoch 14/85\n",
            "1551/1551 [==============================] - 103s 66ms/step - loss: 0.5304 - accuracy: 0.9249 - val_loss: 0.5237 - val_accuracy: 0.9330\n",
            "Epoch 15/85\n",
            "1551/1551 [==============================] - 104s 67ms/step - loss: 0.5294 - accuracy: 0.9230 - val_loss: 0.5221 - val_accuracy: 0.9330\n",
            "Epoch 16/85\n",
            "1551/1551 [==============================] - 103s 66ms/step - loss: 0.5275 - accuracy: 0.9246 - val_loss: 0.5208 - val_accuracy: 0.9356\n",
            "Epoch 17/85\n",
            "1551/1551 [==============================] - 104s 67ms/step - loss: 0.5247 - accuracy: 0.9230 - val_loss: 0.5199 - val_accuracy: 0.9330\n",
            "Epoch 18/85\n",
            "1551/1551 [==============================] - 104s 67ms/step - loss: 0.5223 - accuracy: 0.9249 - val_loss: 0.5189 - val_accuracy: 0.9343\n",
            "Epoch 19/85\n",
            "1551/1551 [==============================] - 103s 66ms/step - loss: 0.5204 - accuracy: 0.9263 - val_loss: 0.5180 - val_accuracy: 0.9330\n",
            "Epoch 20/85\n",
            "1551/1551 [==============================] - 104s 67ms/step - loss: 0.5208 - accuracy: 0.9265 - val_loss: 0.5175 - val_accuracy: 0.9356\n",
            "Epoch 21/85\n",
            "1551/1551 [==============================] - 103s 66ms/step - loss: 0.5152 - accuracy: 0.9313 - val_loss: 0.5167 - val_accuracy: 0.9330\n",
            "Epoch 22/85\n",
            "1551/1551 [==============================] - 104s 67ms/step - loss: 0.5179 - accuracy: 0.9270 - val_loss: 0.5164 - val_accuracy: 0.9343\n",
            "Epoch 23/85\n",
            "1551/1551 [==============================] - 103s 66ms/step - loss: 0.5174 - accuracy: 0.9254 - val_loss: 0.5147 - val_accuracy: 0.9343\n",
            "Epoch 24/85\n",
            "1551/1551 [==============================] - 104s 67ms/step - loss: 0.5138 - accuracy: 0.9297 - val_loss: 0.5136 - val_accuracy: 0.9343\n",
            "Epoch 25/85\n",
            "1551/1551 [==============================] - 103s 66ms/step - loss: 0.5119 - accuracy: 0.9313 - val_loss: 0.5129 - val_accuracy: 0.9381\n",
            "Epoch 26/85\n",
            "1551/1551 [==============================] - 104s 67ms/step - loss: 0.5110 - accuracy: 0.9338 - val_loss: 0.5122 - val_accuracy: 0.9381\n",
            "Epoch 27/85\n",
            "1551/1551 [==============================] - 103s 66ms/step - loss: 0.5123 - accuracy: 0.9328 - val_loss: 0.5120 - val_accuracy: 0.9369\n",
            "Epoch 28/85\n",
            "1551/1551 [==============================] - 103s 66ms/step - loss: 0.5101 - accuracy: 0.9342 - val_loss: 0.5116 - val_accuracy: 0.9369\n",
            "Epoch 29/85\n",
            "1551/1551 [==============================] - 104s 67ms/step - loss: 0.5128 - accuracy: 0.9331 - val_loss: 0.5120 - val_accuracy: 0.9343\n",
            "Epoch 30/85\n",
            "1551/1551 [==============================] - 103s 66ms/step - loss: 0.5074 - accuracy: 0.9355 - val_loss: 0.5111 - val_accuracy: 0.9356\n",
            "Epoch 31/85\n",
            "1551/1551 [==============================] - 104s 67ms/step - loss: 0.5072 - accuracy: 0.9342 - val_loss: 0.5104 - val_accuracy: 0.9356\n",
            "Epoch 32/85\n",
            "1551/1551 [==============================] - 103s 66ms/step - loss: 0.5066 - accuracy: 0.9355 - val_loss: 0.5104 - val_accuracy: 0.9343\n",
            "Epoch 33/85\n",
            "1551/1551 [==============================] - 104s 67ms/step - loss: 0.5048 - accuracy: 0.9355 - val_loss: 0.5096 - val_accuracy: 0.9356\n",
            "Epoch 34/85\n",
            "1551/1551 [==============================] - 103s 66ms/step - loss: 0.5037 - accuracy: 0.9396 - val_loss: 0.5095 - val_accuracy: 0.9356\n",
            "Epoch 35/85\n",
            "1551/1551 [==============================] - 104s 67ms/step - loss: 0.5023 - accuracy: 0.9405 - val_loss: 0.5099 - val_accuracy: 0.9343\n",
            "Epoch 36/85\n",
            "1551/1551 [==============================] - 103s 66ms/step - loss: 0.5053 - accuracy: 0.9365 - val_loss: 0.5099 - val_accuracy: 0.9356\n",
            "Epoch 37/85\n",
            "1551/1551 [==============================] - 104s 67ms/step - loss: 0.5049 - accuracy: 0.9346 - val_loss: 0.5088 - val_accuracy: 0.9343\n",
            "Epoch 38/85\n",
            "1551/1551 [==============================] - 103s 66ms/step - loss: 0.5036 - accuracy: 0.9367 - val_loss: 0.5088 - val_accuracy: 0.9356\n",
            "Epoch 39/85\n",
            "1551/1551 [==============================] - 103s 66ms/step - loss: 0.5014 - accuracy: 0.9386 - val_loss: 0.5081 - val_accuracy: 0.9369\n",
            "Epoch 40/85\n",
            "1551/1551 [==============================] - 104s 67ms/step - loss: 0.5011 - accuracy: 0.9389 - val_loss: 0.5075 - val_accuracy: 0.9369\n",
            "Epoch 41/85\n",
            "1551/1551 [==============================] - 103s 66ms/step - loss: 0.5000 - accuracy: 0.9400 - val_loss: 0.5073 - val_accuracy: 0.9356\n",
            "Epoch 42/85\n",
            "1551/1551 [==============================] - 104s 67ms/step - loss: 0.5003 - accuracy: 0.9391 - val_loss: 0.5078 - val_accuracy: 0.9369\n",
            "Epoch 43/85\n",
            "1551/1551 [==============================] - 103s 66ms/step - loss: 0.4990 - accuracy: 0.9426 - val_loss: 0.5081 - val_accuracy: 0.9369\n",
            "Epoch 44/85\n",
            "1551/1551 [==============================] - 104s 67ms/step - loss: 0.5016 - accuracy: 0.9371 - val_loss: 0.5069 - val_accuracy: 0.9356\n",
            "Epoch 45/85\n",
            "1551/1551 [==============================] - 103s 66ms/step - loss: 0.4986 - accuracy: 0.9387 - val_loss: 0.5067 - val_accuracy: 0.9356\n",
            "Epoch 46/85\n",
            "1551/1551 [==============================] - 104s 67ms/step - loss: 0.4977 - accuracy: 0.9415 - val_loss: 0.5061 - val_accuracy: 0.9356\n",
            "Epoch 47/85\n",
            "1551/1551 [==============================] - 103s 66ms/step - loss: 0.4979 - accuracy: 0.9378 - val_loss: 0.5061 - val_accuracy: 0.9356\n",
            "Epoch 48/85\n",
            "1551/1551 [==============================] - 104s 67ms/step - loss: 0.5000 - accuracy: 0.9392 - val_loss: 0.5056 - val_accuracy: 0.9369\n",
            "Epoch 49/85\n",
            "1551/1551 [==============================] - 103s 66ms/step - loss: 0.4951 - accuracy: 0.9439 - val_loss: 0.5049 - val_accuracy: 0.9356\n",
            "Epoch 50/85\n",
            "1551/1551 [==============================] - 103s 66ms/step - loss: 0.4977 - accuracy: 0.9392 - val_loss: 0.5049 - val_accuracy: 0.9356\n",
            "Epoch 51/85\n",
            "1551/1551 [==============================] - 104s 67ms/step - loss: 0.4935 - accuracy: 0.9421 - val_loss: 0.5051 - val_accuracy: 0.9356\n",
            "Epoch 52/85\n",
            "1551/1551 [==============================] - 103s 66ms/step - loss: 0.4972 - accuracy: 0.9396 - val_loss: 0.5055 - val_accuracy: 0.9369\n",
            "Epoch 53/85\n",
            "1551/1551 [==============================] - 104s 67ms/step - loss: 0.4948 - accuracy: 0.9429 - val_loss: 0.5044 - val_accuracy: 0.9369\n",
            "Epoch 54/85\n",
            "1551/1551 [==============================] - 103s 66ms/step - loss: 0.4955 - accuracy: 0.9417 - val_loss: 0.5050 - val_accuracy: 0.9369\n",
            "Epoch 55/85\n",
            "1551/1551 [==============================] - 104s 67ms/step - loss: 0.4952 - accuracy: 0.9444 - val_loss: 0.5048 - val_accuracy: 0.9369\n",
            "Epoch 56/85\n",
            "1551/1551 [==============================] - 103s 66ms/step - loss: 0.4939 - accuracy: 0.9436 - val_loss: 0.5043 - val_accuracy: 0.9369\n",
            "Epoch 57/85\n",
            "1551/1551 [==============================] - 104s 67ms/step - loss: 0.4929 - accuracy: 0.9458 - val_loss: 0.5036 - val_accuracy: 0.9369\n",
            "Epoch 58/85\n",
            "1551/1551 [==============================] - 103s 66ms/step - loss: 0.4963 - accuracy: 0.9423 - val_loss: 0.5038 - val_accuracy: 0.9369\n",
            "Epoch 59/85\n",
            "1551/1551 [==============================] - 104s 67ms/step - loss: 0.4949 - accuracy: 0.9428 - val_loss: 0.5036 - val_accuracy: 0.9381\n",
            "Epoch 60/85\n",
            "1551/1551 [==============================] - 103s 66ms/step - loss: 0.4916 - accuracy: 0.9460 - val_loss: 0.5033 - val_accuracy: 0.9381\n",
            "Epoch 61/85\n",
            "1551/1551 [==============================] - 103s 66ms/step - loss: 0.4929 - accuracy: 0.9433 - val_loss: 0.5025 - val_accuracy: 0.9381\n",
            "Epoch 62/85\n",
            "1551/1551 [==============================] - 104s 67ms/step - loss: 0.4920 - accuracy: 0.9442 - val_loss: 0.5031 - val_accuracy: 0.9381\n",
            "Epoch 63/85\n",
            "1551/1551 [==============================] - 103s 67ms/step - loss: 0.4931 - accuracy: 0.9458 - val_loss: 0.5044 - val_accuracy: 0.9381\n",
            "Epoch 64/85\n",
            "1551/1551 [==============================] - 104s 67ms/step - loss: 0.4910 - accuracy: 0.9436 - val_loss: 0.5042 - val_accuracy: 0.9381\n",
            "Epoch 65/85\n",
            "1551/1551 [==============================] - 103s 66ms/step - loss: 0.4915 - accuracy: 0.9431 - val_loss: 0.5034 - val_accuracy: 0.9369\n",
            "Epoch 66/85\n",
            "1551/1551 [==============================] - 104s 67ms/step - loss: 0.4917 - accuracy: 0.9468 - val_loss: 0.5034 - val_accuracy: 0.9381\n",
            "Epoch 67/85\n",
            "1551/1551 [==============================] - 103s 66ms/step - loss: 0.4893 - accuracy: 0.9466 - val_loss: 0.5036 - val_accuracy: 0.9381\n",
            "Epoch 68/85\n",
            "1551/1551 [==============================] - 104s 67ms/step - loss: 0.4900 - accuracy: 0.9458 - val_loss: 0.5028 - val_accuracy: 0.9381\n",
            "Epoch 69/85\n",
            "1551/1551 [==============================] - 103s 66ms/step - loss: 0.4887 - accuracy: 0.9468 - val_loss: 0.5026 - val_accuracy: 0.9394\n",
            "Epoch 70/85\n",
            "1551/1551 [==============================] - 104s 67ms/step - loss: 0.4879 - accuracy: 0.9476 - val_loss: 0.5028 - val_accuracy: 0.9381\n",
            "Epoch 71/85\n",
            "1551/1551 [==============================] - 103s 66ms/step - loss: 0.4894 - accuracy: 0.9452 - val_loss: 0.5032 - val_accuracy: 0.9369\n",
            "Epoch 72/85\n",
            "1551/1551 [==============================] - 104s 67ms/step - loss: 0.4883 - accuracy: 0.9468 - val_loss: 0.5027 - val_accuracy: 0.9394\n",
            "Epoch 73/85\n",
            "1551/1551 [==============================] - 103s 66ms/step - loss: 0.4917 - accuracy: 0.9428 - val_loss: 0.5027 - val_accuracy: 0.9381\n",
            "Epoch 74/85\n",
            "1551/1551 [==============================] - 103s 66ms/step - loss: 0.4880 - accuracy: 0.9487 - val_loss: 0.5019 - val_accuracy: 0.9394\n",
            "Epoch 75/85\n",
            "1551/1551 [==============================] - 104s 67ms/step - loss: 0.4902 - accuracy: 0.9476 - val_loss: 0.5024 - val_accuracy: 0.9369\n",
            "Epoch 76/85\n",
            "1551/1551 [==============================] - 103s 66ms/step - loss: 0.4900 - accuracy: 0.9460 - val_loss: 0.5018 - val_accuracy: 0.9381\n",
            "Epoch 77/85\n",
            "1551/1551 [==============================] - 104s 67ms/step - loss: 0.4885 - accuracy: 0.9483 - val_loss: 0.5019 - val_accuracy: 0.9394\n",
            "Epoch 78/85\n",
            "1551/1551 [==============================] - 103s 66ms/step - loss: 0.4887 - accuracy: 0.9452 - val_loss: 0.5010 - val_accuracy: 0.9394\n",
            "Epoch 79/85\n",
            "1551/1551 [==============================] - 104s 67ms/step - loss: 0.4891 - accuracy: 0.9462 - val_loss: 0.5019 - val_accuracy: 0.9381\n",
            "Epoch 80/85\n",
            "1551/1551 [==============================] - 103s 66ms/step - loss: 0.4868 - accuracy: 0.9491 - val_loss: 0.5020 - val_accuracy: 0.9369\n",
            "Epoch 81/85\n",
            "1551/1551 [==============================] - 104s 67ms/step - loss: 0.4895 - accuracy: 0.9449 - val_loss: 0.5017 - val_accuracy: 0.9381\n",
            "Epoch 82/85\n",
            "1551/1551 [==============================] - 103s 66ms/step - loss: 0.4858 - accuracy: 0.9492 - val_loss: 0.5005 - val_accuracy: 0.9381\n",
            "Epoch 83/85\n",
            "1551/1551 [==============================] - 104s 67ms/step - loss: 0.4868 - accuracy: 0.9516 - val_loss: 0.5017 - val_accuracy: 0.9394\n",
            "Epoch 84/85\n",
            "1551/1551 [==============================] - 103s 66ms/step - loss: 0.4861 - accuracy: 0.9492 - val_loss: 0.5020 - val_accuracy: 0.9394\n",
            "Epoch 85/85\n",
            "1551/1551 [==============================] - 104s 67ms/step - loss: 0.4873 - accuracy: 0.9487 - val_loss: 0.5015 - val_accuracy: 0.9381\n"
          ]
        }
      ],
      "source": [
        "num_epochs = 85\n",
        "learning_rate = 0.0001 #0.0001\n",
        "batch_size = 4\n",
        "shuffle = True #True\n",
        "augmentation = False\n",
        "\n",
        "model = image_classifier.create(train_data,\n",
        "                                validation_data=validation_data,\n",
        "                                model_spec=model_spec.get('efficientnet_lite3'), \n",
        "                                epochs = num_epochs, \n",
        "                                learning_rate = learning_rate,\n",
        "                                batch_size = batch_size, \n",
        "                                shuffle = shuffle, \n",
        "                                use_augmentation= augmentation)"
      ]
    },
    {
      "cell_type": "code",
      "execution_count": null,
      "metadata": {
        "id": "m2aKyiG9uLx3"
      },
      "outputs": [],
      "source": [
        "# efficientnet_lite4' NO BUENO\n",
        "\n",
        "num_epochs = 500\n",
        "learning_rate = 0.0001\n",
        "batch_size = 4\n",
        "shuffle = True\n",
        "augmentation = True\n",
        "\n",
        "model = image_classifier.create(train_data,\n",
        "                                validation_data=validation_data,\n",
        "                                model_spec=model_spec.get('efficientnet_lite4'), \n",
        "                                epochs = num_epochs, \n",
        "                                learning_rate = learning_rate,\n",
        "                                batch_size = batch_size, \n",
        "                                shuffle = shuffle, \n",
        "                                use_augmentation= augmentation)"
      ]
    },
    {
      "cell_type": "markdown",
      "metadata": {
        "id": "GAxnTY1qyDuo"
      },
      "source": [
        "# Ploting loss, val, accuracy, & val loss"
      ]
    },
    {
      "cell_type": "markdown",
      "metadata": {
        "id": "ox4R-BgWySfN"
      },
      "source": [
        "## Setting variables"
      ]
    },
    {
      "cell_type": "code",
      "execution_count": null,
      "metadata": {
        "colab": {
          "background_save": true
        },
        "id": "EUG8KaK9r2of"
      },
      "outputs": [],
      "source": [
        "acc = model.history.history['accuracy']\n",
        "val_acc = model.history.history['val_accuracy']\n",
        "loss = model.history.history['loss']\n",
        "val_loss = model.history.history['val_loss']\n",
        "epochs_range = range(num_epochs)"
      ]
    },
    {
      "cell_type": "markdown",
      "metadata": {
        "id": "peClktfVyUlT"
      },
      "source": [
        "## Plotting"
      ]
    },
    {
      "cell_type": "code",
      "execution_count": null,
      "metadata": {
        "colab": {
          "background_save": true
        },
        "id": "s1NtINJ4tahl",
        "outputId": "74614cb1-d6d5-4df8-e53b-20609c679f73"
      },
      "outputs": [
        {
          "data": {
            "image/png": "[encoded data removed]",
            "text/plain": [
              "<Figure size 1440x720 with 2 Axes>"
            ]
          },
          "metadata": {},
          "output_type": "display_data"
        }
      ],
      "source": [
        "plt.figure(figsize=(20, 10)) # width, height\n",
        "plt.subplot(1, 2, 1) #rows, columns\n",
        "plt.plot(epochs_range, acc, label='Training Accuracy')\n",
        "plt.plot(epochs_range, val_acc, label='Validation Accuracy')\n",
        "plt.legend(loc='lower right')\n",
        "plt.title('Training and Validation Accuracy')\n",
        "\n",
        "plt.subplot(1, 2, 2)\n",
        "plt.plot(epochs_range, loss, label='Training Loss')\n",
        "plt.plot(epochs_range, val_loss, label='Validation Loss')\n",
        "plt.legend(loc='upper right')\n",
        "plt.title('Training and Validation Loss')\n",
        "plt.show()"
      ]
    },
    {
      "cell_type": "code",
      "execution_count": null,
      "metadata": {
        "colab": {
          "background_save": true
        },
        "id": "lPPlhR5jYKs2",
        "outputId": "090ee0ed-6692-4e45-e37e-e88bf2d444c2"
      },
      "outputs": [
        {
          "name": "stdout",
          "output_type": "stream",
          "text": [
            "Model: \"sequential\"\n",
            "_________________________________________________________________\n",
            " Layer (type)                Output Shape              Param #   \n",
            "=================================================================\n",
            " hub_keras_layer_v1v2 (HubKe  (None, 1280)             6992768   \n",
            " rasLayerV1V2)                                                   \n",
            "                                                                 \n",
            " dropout (Dropout)           (None, 1280)              0         \n",
            "                                                                 \n",
            " dense (Dense)               (None, 4)                 5124      \n",
            "                                                                 \n",
            "=================================================================\n",
            "Total params: 6,997,892\n",
            "Trainable params: 5,124\n",
            "Non-trainable params: 6,992,768\n",
            "_________________________________________________________________\n"
          ]
        }
      ],
      "source": [
        "model.summary()"
      ]
    },
    {
      "cell_type": "markdown",
      "metadata": {
        "id": "mvEzdOsx1DmU"
      },
      "source": [
        "# Exporting trained model"
      ]
    },
    {
      "cell_type": "code",
      "execution_count": null,
      "metadata": {
        "id": "rS6ALCgL1DBM"
      },
      "outputs": [],
      "source": [
        "newpath = r'/content/gdrive/MyDrive/SCI_Model/' \n",
        "if not os.path.exists(newpath):\n",
        "    os.makedirs(newpath)\n",
        "\n",
        "model.export(export_dir=\"/content/gdrive/MyDrive/SCI_Model/\")"
      ]
    }
  ],
  "metadata": {
    "accelerator": "GPU",
    "colab": {
      "collapsed_sections": [],
      "machine_shape": "hm",
      "provenance": []
    },
    "gpuClass": "premium",
    "kernelspec": {
      "display_name": "Python 3",
      "name": "python3"
    },
    "language_info": {
      "name": "python"
    }
  },
  "nbformat": 4,
  "nbformat_minor": 0
}
